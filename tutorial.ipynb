{
 "cells": [
  {
   "cell_type": "markdown",
   "metadata": {},
   "source": [
    "# Image Segmentation using Keras\n",
    "\n",
    "In this tutorial you will see how to setup a simple model for image segmentation using the popular\n",
    "[PASCAL VOC dataset](http://host.robots.ox.ac.uk/pascal/VOC/)\n",
    "([mirror](https://pjreddie.com/projects/pascal-voc-dataset-mirror/)). For each pixel in the image we will try to predict if the pixel is foreground or background."
   ]
  },
  {
   "cell_type": "markdown",
   "metadata": {},
   "source": [
    "First off, let's import everything we'll need for the tutorial"
   ]
  },
  {
   "cell_type": "code",
   "execution_count": 1,
   "metadata": {},
   "outputs": [
    {
     "name": "stderr",
     "output_type": "stream",
     "text": [
      "Using TensorFlow backend.\n"
     ]
    }
   ],
   "source": [
    "from pathlib import Path\n",
    "from tqdm import tqdm\n",
    "import keras\n",
    "import matplotlib.pyplot as plt\n",
    "import os"
   ]
  },
  {
   "cell_type": "markdown",
   "metadata": {},
   "source": [
    "More tutorials at https://github.com/fchollet/keras-resources"
   ]
  },
  {
   "cell_type": "markdown",
   "metadata": {},
   "source": [
    "# Data Wrangling\n",
    "\n",
    "Keras has a prefered way of storing image datasets. PASCAL VOC comes with a different layout so we first have to rearrange some things.\n",
    "\n",
    "We create two folders, one for the training and one for validation, using the split given in PASCAL VOC. In each folder we create one folder for the images and one for the the annotation masks. Then we need one more dummy folder to make the keras data loader happy."
   ]
  },
  {
   "cell_type": "code",
   "execution_count": 2,
   "metadata": {
    "collapsed": true
   },
   "outputs": [],
   "source": [
    "# Download the dataset. If you already have it downloaded somewhere read the next cell.\n",
    "voc_tarfile = keras.utils.get_file(\n",
    "    fname='VOCtrainval_11-May-2012.tar',\n",
    "    origin='http://pjreddie.com/media/files/VOCtrainval_11-May-2012.tar',\n",
    "    extract=True,\n",
    "    file_hash='e14f763270cf193d0b5f74b169f44157a4b0c6efa708f4dd0ff78ee691763bcb')\n",
    "voc = Path(voc_tarfile).parent / 'VOCdevkit' / 'VOC2012'"
   ]
  },
  {
   "cell_type": "code",
   "execution_count": 3,
   "metadata": {
    "collapsed": true
   },
   "outputs": [],
   "source": [
    "# If you've downloaded the dataset to somewhere else uncomment the line below and fill in the path\n",
    "#voc = Path('<path to VOC2012 folder>')"
   ]
  },
  {
   "cell_type": "code",
   "execution_count": 4,
   "metadata": {},
   "outputs": [
    {
     "name": "stdout",
     "output_type": "stream",
     "text": [
      "Found 1464 images for training and 1449 for validation.\n"
     ]
    }
   ],
   "source": [
    "# Read the image ids for the training and test sets\n",
    "trainset = [id_.strip() for id_ in open(voc / 'ImageSets' / 'Segmentation' / 'train.txt')]\n",
    "valset = [id_.strip() for id_ in open(voc / 'ImageSets' / 'Segmentation' / 'val.txt')]\n",
    "print(f'Found {len(trainset)} images for training and {len(valset)} for validation.')"
   ]
  },
  {
   "cell_type": "code",
   "execution_count": 6,
   "metadata": {},
   "outputs": [
    {
     "name": "stderr",
     "output_type": "stream",
     "text": [
      "linking images: 100%|██████████| 1464/1464 [00:00<00:00, 5761.37it/s]\n",
      "linking images: 100%|██████████| 1449/1449 [00:00<00:00, 5711.87it/s]\n"
     ]
    }
   ],
   "source": [
    "def create_image_folders(image_ids, root_path):\n",
    "    \"\"\"Create folders for images and masks and copy files in.\n",
    "    \n",
    "    image_ids: list of image ids to copy into the folders.\n",
    "    root_path: path where to place the new folders.\n",
    "    \"\"\"\n",
    "    image_dir = Path(root_path) / 'image' / 'dummy'\n",
    "    mask_dir = Path(root_path) / 'mask' / 'dummy'\n",
    "\n",
    "    os.makedirs(image_dir)\n",
    "    os.makedirs(mask_dir)\n",
    "\n",
    "    for image in tqdm(image_ids, desc='linking images'):\n",
    "        # Symlink the images instead of copying them to avoid some duplication.\n",
    "        image_src = voc / 'JPEGImages' / f'{image}.jpg'\n",
    "        image_dst = image_dir / f'{image}.jpg'\n",
    "        os.symlink(image_src, image_dst)\n",
    "\n",
    "        mask_src = voc / 'SegmentationClass' / f'{image}.png'\n",
    "        mask_dst = mask_dir / f'{image}.png'\n",
    "        os.symlink(mask_src, mask_dst)\n",
    "\n",
    "# Create folders for both the training and validation set.\n",
    "create_image_folders(trainset, 'data/train')\n",
    "create_image_folders(valset, 'data/val')"
   ]
  },
  {
   "cell_type": "markdown",
   "metadata": {},
   "source": [
    "# Loading Data\n",
    "\n",
    "Keras comes with some utilities for loading images.\n",
    "Since images can be large, we want to avoid loading the all into memory at the same time \n",
    "(not really a problem with a dataset of 3000 images, but nice to see how to do it).\n",
    "We can use the [`ImageDataGenerator`](https://keras.io/preprocessing/image/#imagedatagenerator-class)\n",
    "class which can load a folder of images batch by batch so we don't need to keep it all in memory."
   ]
  },
  {
   "cell_type": "markdown",
   "metadata": {},
   "source": [
    "Lets load a batch of images and look at them with `matplotlib`."
   ]
  },
  {
   "cell_type": "code",
   "execution_count": 8,
   "metadata": {},
   "outputs": [
    {
     "name": "stdout",
     "output_type": "stream",
     "text": [
      "Found 1464 images belonging to 1 classes.\n"
     ]
    },
    {
     "data": {
      "image/png": "[encoded data removed]",
      "text/plain": [
       "<matplotlib.figure.Figure at 0xa22b30940>"
      ]
     },
     "metadata": {},
     "output_type": "display_data"
    },
    {
     "data": {
      "image/png": "[encoded data removed]",
      "text/plain": [
       "<matplotlib.figure.Figure at 0xa232f35f8>"
      ]
     },
     "metadata": {},
     "output_type": "display_data"
    }
   ],
   "source": [
    "# The size to rescale the images to. Smaller values should speed up learning, larger values should lead to a better model.\n",
    "SIZE = 16\n",
    "\n",
    "# Rescale the pixel from the range [0, 255] to [0, 1] to help visualization and training the network.\n",
    "imdatagen = keras.preprocessing.image.ImageDataGenerator(rescale=1/255)\n",
    "im_batch = imdatagen.flow_from_directory('data/train/image',\n",
    "                                         target_size=(SIZE, SIZE),\n",
    "                                         batch_size=2,\n",
    "                                         class_mode=None)[0]\n",
    "plt.imshow(im_batch[0, ...])\n",
    "plt.show()\n",
    "plt.imshow(im_batch[1, ...])\n",
    "plt.show()"
   ]
  },
  {
   "cell_type": "markdown",
   "metadata": {},
   "source": [
    "Note how every time the previous cell is run the first batch of two examples is different. This will cause problems if we want to load the masks with a second `ImageDataGenerator` and have the images and the masks line up. We could disable shuffling, but that's a Bad Idea&trade; when training deep learning models using Stochastic Gradient Descent. Instead we fix the `seed` of each generator."
   ]
  },
  {
   "cell_type": "code",
   "execution_count": 21,
   "metadata": {
    "collapsed": true
   },
   "outputs": [],
   "source": [
    "class ZipSequence(keras.utils.Sequence):\n",
    "    \"\"\"Helper that zips two sequences.\n",
    "    \n",
    "    Mostly so that keras doesn't complain.\n",
    "    \"\"\"\n",
    "\n",
    "    def __init__(self, a, b):\n",
    "        super().__init__()\n",
    "\n",
    "        if len(a) != len(b):\n",
    "            raise ValueError('length of both sequences must be equal: '\n",
    "                             '{} vs. {}'.format(len(a), len(b)))\n",
    "        self.a = a\n",
    "        self.b = b\n",
    "\n",
    "    def __len__(self):\n",
    "        return len(self.a)\n",
    "\n",
    "    def __getitem__(self, idx):\n",
    "        return self.a[idx], self.b[idx]\n",
    "\n",
    "\n",
    "def categories_to_foreground_mask(categories):\n",
    "    \"\"\"TODO Convert PASCAL VOC categories to foreground/background masks.\"\"\"\n",
    "    foreground = categories.sum(axis=-1) != 0.0\n",
    "    return foreground.reshape(foreground.shape + (1,)).astype('float32')\n",
    "    return categories / 255  # Just scale to [0, 1] for now.\n",
    "\n",
    "\n",
    "def image_mask_sequence(folder, batch_size, shuffle=True, size=SIZE, seed=4):\n",
    "    \"\"\"Return a sequence on (image, mask) pairs.\"\"\"\n",
    "\n",
    "    folder = Path(folder)  # Ensure that folder is a pathlib.Path\n",
    "    imgen = keras.preprocessing.image.ImageDataGenerator(rescale=1/255)\n",
    "    images = imgen.flow_from_directory(folder / 'image',\n",
    "                                       target_size=(size, size),\n",
    "                                       batch_size=batch_size,\n",
    "                                       shuffle=shuffle,\n",
    "                                       seed=seed,\n",
    "                                       class_mode=None)\n",
    "\n",
    "    maskgen = keras.preprocessing.image.ImageDataGenerator(preprocessing_function=categories_to_foreground_mask)\n",
    "    masks = maskgen.flow_from_directory(folder / 'mask',\n",
    "                                        color_mode='grayscale',  # Uncomment once categories_to_foreground_mask is filled in.\n",
    "                                        target_size=(size, size),\n",
    "                                        batch_size=batch_size,\n",
    "                                        shuffle=shuffle,\n",
    "                                        seed=seed,\n",
    "                                        class_mode=None)\n",
    "    return ZipSequence(images, masks)"
   ]
  },
  {
   "cell_type": "markdown",
   "metadata": {},
   "source": [
    "Let's load one batch to see what it looks like."
   ]
  },
  {
   "cell_type": "code",
   "execution_count": 50,
   "metadata": {},
   "outputs": [
    {
     "name": "stdout",
     "output_type": "stream",
     "text": [
      "Found 1464 images belonging to 1 classes.\n",
      "Found 1464 images belonging to 1 classes.\n"
     ]
    },
    {
     "data": {
      "image/png": "[encoded data removed]",
      "text/plain": [
       "<matplotlib.figure.Figure at 0xa2a8a8828>"
      ]
     },
     "metadata": {},
     "output_type": "display_data"
    },
    {
     "data": {
      "image/png": "[encoded data removed]",
      "text/plain": [
       "<matplotlib.figure.Figure at 0xa2aecb4e0>"
      ]
     },
     "metadata": {},
     "output_type": "display_data"
    },
    {
     "data": {
      "image/png": "[encoded data removed]",
      "text/plain": [
       "<matplotlib.figure.Figure at 0xa2a6c8eb8>"
      ]
     },
     "metadata": {},
     "output_type": "display_data"
    }
   ],
   "source": [
    "def show_image_mask_pred(image, mask, pred=None):\n",
    "    \"\"\"Show an image, a mask, and optionally a prediction side-by-side.\"\"\"\n",
    "\n",
    "    width = 9 if pred is None else 15\n",
    "    ncols = 2 if pred is None else 3\n",
    "    f, axs = plt.subplots(ncols=ncols, figsize=(width, 4))\n",
    "    axs[0].imshow(image)\n",
    "    axs[0].set_title('Image')\n",
    "    im = axs[1].imshow(mask)\n",
    "    axs[1].set_title('Mask')\n",
    "    \n",
    "    if pred is not None:\n",
    "        im = axs[2].imshow(pred)\n",
    "        axs[2].set_title('Prediction')\n",
    "\n",
    "    if len(mask.shape) == 2 or pred:\n",
    "        f.colorbar(im)\n",
    "\n",
    "    plt.tight_layout()\n",
    "    plt.show(f)\n",
    "\n",
    "images, masks = image_mask_sequence('data/train', batch_size=2, seed=42)[0]\n",
    "show_image_mask_pred(images[0, ...], masks[0, ..., 0])\n",
    "show_image_mask_pred(images[1, ...], masks[1, ..., 0])"
   ]
  },
  {
   "cell_type": "markdown",
   "metadata": {},
   "source": [
    "You'll notice that masks have difference colours for different classes of objects. The PASCAL VOC has 20 different object categories that model must learn to predict, but we will only try foreground and background.\n",
    "Try to update `categories_to_foreground_mask()` above to convert these category masks to masks where 0.0 represents background and 1.0 foreground."
   ]
  },
  {
   "cell_type": "markdown",
   "metadata": {},
   "source": [
    "# Define Model\n",
    "\n",
    "Now that we can load data, we will define a super simple U-Net. The model should roughly look like:\n",
    "\n",
    "```\n",
    "   Image\n",
    "     |\n",
    "     v\n",
    "   Conv2d ----> Downsample\n",
    "     |              |\n",
    "     |              v\n",
    "     |            Conv2d\n",
    "     |              |\n",
    "     v              v\n",
    "Concatenate <--- Upsample\n",
    "     |\n",
    "     v\n",
    "   Conv2d\n",
    "     |\n",
    "     v\n",
    " Prediction\n",
    "\n",
    "```\n",
    "\n",
    "(This doesn't look like much of a U because my ASCII art skills could be better, just squint and pretend 😀)\n",
    "\n",
    "Since the U-Net is not strictly sequential we will make use of the Keras [functional API].\n",
    "Usually with functional API you create a layer and immediately call:\n",
    "\n",
    "```python\n",
    "x = Conv2D(16, (3, 3))(x)\n",
    "```\n",
    "\n",
    "Since we control the arguments passed to the layers we can connect layer output however we want, and also concatenate them using [`Concatenate()`][https://keras.io/layers/merge/#concatenate]. So lets go ahead and define our simple U-Net.\n",
    "\n",
    "[functional API]: https://keras.io/getting-started/functional-api-guide/"
   ]
  },
  {
   "cell_type": "code",
   "execution_count": 11,
   "metadata": {
    "collapsed": true
   },
   "outputs": [],
   "source": [
    "# Shortcuts to the layer we need to make it more readable.\n",
    "Activation = keras.layers.Activation\n",
    "AveragePooling2D = keras.layers.AveragePooling2D\n",
    "BatchNormalization = keras.layers.BatchNormalization\n",
    "Conv2D = keras.layers.Conv2D\n",
    "Input = keras.layers.Input\n",
    "UpSampling2D = keras.layers.UpSampling2D"
   ]
  },
  {
   "cell_type": "code",
   "execution_count": 12,
   "metadata": {},
   "outputs": [],
   "source": [
    "# In general it's good to name your operations because then Keras\n",
    "# can use better names when it creates Tensorflow objects.\n",
    "\n",
    "# All functional API\n",
    "image = Input(shape=[SIZE, SIZE, 3], name='image')\n",
    "\n",
    "# A common building block in Conv Nets is this Conv3x3-BatchNorm-Relu combination.\n",
    "# The `same` padding is different from the U-Net paper and will lead to edge effects.\n",
    "x = Conv2D(filters=16, kernel_size=(3, 3), padding='same')(image)\n",
    "x = BatchNormalization()(x)\n",
    "x = Activation('relu')(x)\n",
    "\n",
    "# Save the large scale output to concatenate with later.\n",
    "x_large = x\n",
    "x_small = AveragePooling2D(pool_size=(2, 2))(x)\n",
    "\n",
    "x = Conv2D(32, (3, 3), padding='same')(x_small)\n",
    "x = BatchNormalization()(x)\n",
    "x = Activation('relu')(x)\n",
    "\n",
    "x_upsampled = UpSampling2D(size=(2, 2))(x)\n",
    "x = keras.layers.concatenate([x_large, x_upsampled])\n",
    "\n",
    "x = Conv2D(16, (3, 3), padding='same')(x)\n",
    "x = BatchNormalization()(x)\n",
    "x = Activation('relu')(x)\n",
    "\n",
    "# Logits is a common name to give to the pre-sigmoid or softmax values.\n",
    "# The convention comes statistics and logistic regression I believe.\n",
    "logits = Conv2D(1, (1, 1), padding='same', name='logit')(x)\n",
    "\n",
    "# The sigmoid will ensure all our prediction as in the range [0, 1].\n",
    "# It also suggests a probabilistic interpretation of our output but we skip this for now.\n",
    "prediction = Activation('sigmoid', name='prediction')(logits)\n",
    "\n",
    "# In the functional API everything is tied together with a Model() instance.\n",
    "model = keras.models.Model(inputs=image, outputs=prediction)\n",
    "\n",
    "# If we wanted to have multiple output, e.g. for auxillary losses or related predictions,\n",
    "# or multiple inputs, maybe some metadata of the image, we would pass a list to Model()"
   ]
  },
  {
   "cell_type": "markdown",
   "metadata": {},
   "source": [
    "One advantage of Keras is it comes with some tools to summarize and visualize the structure of models."
   ]
  },
  {
   "cell_type": "code",
   "execution_count": 13,
   "metadata": {},
   "outputs": [
    {
     "name": "stdout",
     "output_type": "stream",
     "text": [
      "__________________________________________________________________________________________________\n",
      "Layer (type)                    Output Shape         Param #     Connected to                     \n",
      "==================================================================================================\n",
      "image (InputLayer)              (None, 16, 16, 3)    0                                            \n",
      "__________________________________________________________________________________________________\n",
      "conv2d_1 (Conv2D)               (None, 16, 16, 16)   448         image[0][0]                      \n",
      "__________________________________________________________________________________________________\n",
      "batch_normalization_1 (BatchNor (None, 16, 16, 16)   64          conv2d_1[0][0]                   \n",
      "__________________________________________________________________________________________________\n",
      "activation_1 (Activation)       (None, 16, 16, 16)   0           batch_normalization_1[0][0]      \n",
      "__________________________________________________________________________________________________\n",
      "average_pooling2d_1 (AveragePoo (None, 8, 8, 16)     0           activation_1[0][0]               \n",
      "__________________________________________________________________________________________________\n",
      "conv2d_2 (Conv2D)               (None, 8, 8, 32)     4640        average_pooling2d_1[0][0]        \n",
      "__________________________________________________________________________________________________\n",
      "batch_normalization_2 (BatchNor (None, 8, 8, 32)     128         conv2d_2[0][0]                   \n",
      "__________________________________________________________________________________________________\n",
      "activation_2 (Activation)       (None, 8, 8, 32)     0           batch_normalization_2[0][0]      \n",
      "__________________________________________________________________________________________________\n",
      "up_sampling2d_1 (UpSampling2D)  (None, 16, 16, 32)   0           activation_2[0][0]               \n",
      "__________________________________________________________________________________________________\n",
      "concatenate_1 (Concatenate)     (None, 16, 16, 48)   0           activation_1[0][0]               \n",
      "                                                                 up_sampling2d_1[0][0]            \n",
      "__________________________________________________________________________________________________\n",
      "conv2d_3 (Conv2D)               (None, 16, 16, 16)   6928        concatenate_1[0][0]              \n",
      "__________________________________________________________________________________________________\n",
      "batch_normalization_3 (BatchNor (None, 16, 16, 16)   64          conv2d_3[0][0]                   \n",
      "__________________________________________________________________________________________________\n",
      "activation_3 (Activation)       (None, 16, 16, 16)   0           batch_normalization_3[0][0]      \n",
      "__________________________________________________________________________________________________\n",
      "logit (Conv2D)                  (None, 16, 16, 1)    17          activation_3[0][0]               \n",
      "__________________________________________________________________________________________________\n",
      "prediction (Activation)         (None, 16, 16, 1)    0           logit[0][0]                      \n",
      "==================================================================================================\n",
      "Total params: 12,289\n",
      "Trainable params: 12,161\n",
      "Non-trainable params: 128\n",
      "__________________________________________________________________________________________________\n"
     ]
    }
   ],
   "source": [
    "# A list of all the layers and how they're connected.\n",
    "model.summary()"
   ]
  },
  {
   "cell_type": "code",
   "execution_count": 14,
   "metadata": {},
   "outputs": [
    {
     "data": {
      "image/svg+xml": [
       "<svg height=\"1067pt\" viewBox=\"0.00 0.00 363.98 1067.00\" width=\"364pt\" xmlns=\"http://www.w3.org/2000/svg\" xmlns:xlink=\"http://www.w3.org/1999/xlink\">\n",
       "<g class=\"graph\" id=\"graph0\" transform=\"scale(1 1) rotate(0) translate(4 1063)\">\n",
       "<title>G</title>\n",
       "<polygon fill=\"white\" points=\"-4,4 -4,-1063 359.977,-1063 359.977,4 -4,4\" stroke=\"none\"/>\n",
       "<!-- 43561886440 -->\n",
       "<g class=\"node\" id=\"node1\"><title>43561886440</title>\n",
       "<polygon fill=\"none\" points=\"155.093,-1022.5 155.093,-1058.5 274.883,-1058.5 274.883,-1022.5 155.093,-1022.5\" stroke=\"black\"/>\n",
       "<text font-family=\"Times,serif\" font-size=\"14.00\" text-anchor=\"middle\" x=\"214.988\" y=\"-1036.3\">image: InputLayer</text>\n",
       "</g>\n",
       "<!-- 43561888344 -->\n",
       "<g class=\"node\" id=\"node2\"><title>43561888344</title>\n",
       "<polygon fill=\"none\" points=\"151.962,-949.5 151.962,-985.5 278.014,-985.5 278.014,-949.5 151.962,-949.5\" stroke=\"black\"/>\n",
       "<text font-family=\"Times,serif\" font-size=\"14.00\" text-anchor=\"middle\" x=\"214.988\" y=\"-963.3\">conv2d_1: Conv2D</text>\n",
       "</g>\n",
       "<!-- 43561886440&#45;&gt;43561888344 -->\n",
       "<g class=\"edge\" id=\"edge1\"><title>43561886440-&gt;43561888344</title>\n",
       "<path d=\"M214.988,-1022.31C214.988,-1014.29 214.988,-1004.55 214.988,-995.569\" fill=\"none\" stroke=\"black\"/>\n",
       "<polygon fill=\"black\" points=\"218.488,-995.529 214.988,-985.529 211.488,-995.529 218.488,-995.529\" stroke=\"black\"/>\n",
       "</g>\n",
       "<!-- 43566317752 -->\n",
       "<g class=\"node\" id=\"node3\"><title>43566317752</title>\n",
       "<polygon fill=\"none\" points=\"82,-876.5 82,-912.5 347.977,-912.5 347.977,-876.5 82,-876.5\" stroke=\"black\"/>\n",
       "<text font-family=\"Times,serif\" font-size=\"14.00\" text-anchor=\"middle\" x=\"214.988\" y=\"-890.3\">batch_normalization_1: BatchNormalization</text>\n",
       "</g>\n",
       "<!-- 43561888344&#45;&gt;43566317752 -->\n",
       "<g class=\"edge\" id=\"edge2\"><title>43561888344-&gt;43566317752</title>\n",
       "<path d=\"M214.988,-949.313C214.988,-941.289 214.988,-931.547 214.988,-922.569\" fill=\"none\" stroke=\"black\"/>\n",
       "<polygon fill=\"black\" points=\"218.488,-922.529 214.988,-912.529 211.488,-922.529 218.488,-922.529\" stroke=\"black\"/>\n",
       "</g>\n",
       "<!-- 43566280152 -->\n",
       "<g class=\"node\" id=\"node4\"><title>43566280152</title>\n",
       "<polygon fill=\"none\" points=\"139.528,-803.5 139.528,-839.5 290.449,-839.5 290.449,-803.5 139.528,-803.5\" stroke=\"black\"/>\n",
       "<text font-family=\"Times,serif\" font-size=\"14.00\" text-anchor=\"middle\" x=\"214.988\" y=\"-817.3\">activation_1: Activation</text>\n",
       "</g>\n",
       "<!-- 43566317752&#45;&gt;43566280152 -->\n",
       "<g class=\"edge\" id=\"edge3\"><title>43566317752-&gt;43566280152</title>\n",
       "<path d=\"M214.988,-876.313C214.988,-868.289 214.988,-858.547 214.988,-849.569\" fill=\"none\" stroke=\"black\"/>\n",
       "<polygon fill=\"black\" points=\"218.488,-849.529 214.988,-839.529 211.488,-849.529 218.488,-849.529\" stroke=\"black\"/>\n",
       "</g>\n",
       "<!-- 43561889184 -->\n",
       "<g class=\"node\" id=\"node5\"><title>43561889184</title>\n",
       "<polygon fill=\"none\" points=\"11.499,-730.5 11.499,-766.5 262.478,-766.5 262.478,-730.5 11.499,-730.5\" stroke=\"black\"/>\n",
       "<text font-family=\"Times,serif\" font-size=\"14.00\" text-anchor=\"middle\" x=\"136.988\" y=\"-744.3\">average_pooling2d_1: AveragePooling2D</text>\n",
       "</g>\n",
       "<!-- 43566280152&#45;&gt;43561889184 -->\n",
       "<g class=\"edge\" id=\"edge4\"><title>43566280152-&gt;43561889184</title>\n",
       "<path d=\"M196.107,-803.313C186.238,-794.33 174.003,-783.193 163.229,-773.386\" fill=\"none\" stroke=\"black\"/>\n",
       "<polygon fill=\"black\" points=\"165.447,-770.672 155.696,-766.529 160.735,-775.849 165.447,-770.672\" stroke=\"black\"/>\n",
       "</g>\n",
       "<!-- 43569834136 -->\n",
       "<g class=\"node\" id=\"node10\"><title>43569834136</title>\n",
       "<polygon fill=\"none\" points=\"136.669,-365.5 136.669,-401.5 309.308,-401.5 309.308,-365.5 136.669,-365.5\" stroke=\"black\"/>\n",
       "<text font-family=\"Times,serif\" font-size=\"14.00\" text-anchor=\"middle\" x=\"222.988\" y=\"-379.3\">concatenate_1: Concatenate</text>\n",
       "</g>\n",
       "<!-- 43566280152&#45;&gt;43569834136 -->\n",
       "<g class=\"edge\" id=\"edge9\"><title>43566280152-&gt;43569834136</title>\n",
       "<path d=\"M238.438,-803.279C249.825,-793.77 262.784,-781.049 270.988,-767 291.916,-731.162 293.988,-718.001 293.988,-676.5 293.988,-676.5 293.988,-676.5 293.988,-528.5 293.988,-486.651 287.667,-474.934 267.988,-438 262.625,-427.935 255.136,-418.05 247.805,-409.57\" fill=\"none\" stroke=\"black\"/>\n",
       "<polygon fill=\"black\" points=\"250.194,-406.993 240.898,-401.909 244.995,-411.68 250.194,-406.993\" stroke=\"black\"/>\n",
       "</g>\n",
       "<!-- 43563531736 -->\n",
       "<g class=\"node\" id=\"node6\"><title>43563531736</title>\n",
       "<polygon fill=\"none\" points=\"71.9624,-657.5 71.9624,-693.5 198.014,-693.5 198.014,-657.5 71.9624,-657.5\" stroke=\"black\"/>\n",
       "<text font-family=\"Times,serif\" font-size=\"14.00\" text-anchor=\"middle\" x=\"134.988\" y=\"-671.3\">conv2d_2: Conv2D</text>\n",
       "</g>\n",
       "<!-- 43561889184&#45;&gt;43563531736 -->\n",
       "<g class=\"edge\" id=\"edge5\"><title>43561889184-&gt;43563531736</title>\n",
       "<path d=\"M136.504,-730.313C136.278,-722.289 136.004,-712.547 135.751,-703.569\" fill=\"none\" stroke=\"black\"/>\n",
       "<polygon fill=\"black\" points=\"139.248,-703.426 135.468,-693.529 132.251,-703.623 139.248,-703.426\" stroke=\"black\"/>\n",
       "</g>\n",
       "<!-- 43563729304 -->\n",
       "<g class=\"node\" id=\"node7\"><title>43563729304</title>\n",
       "<polygon fill=\"none\" points=\"0,-584.5 0,-620.5 265.977,-620.5 265.977,-584.5 0,-584.5\" stroke=\"black\"/>\n",
       "<text font-family=\"Times,serif\" font-size=\"14.00\" text-anchor=\"middle\" x=\"132.988\" y=\"-598.3\">batch_normalization_2: BatchNormalization</text>\n",
       "</g>\n",
       "<!-- 43563531736&#45;&gt;43563729304 -->\n",
       "<g class=\"edge\" id=\"edge6\"><title>43563531736-&gt;43563729304</title>\n",
       "<path d=\"M134.504,-657.313C134.278,-649.289 134.004,-639.547 133.751,-630.569\" fill=\"none\" stroke=\"black\"/>\n",
       "<polygon fill=\"black\" points=\"137.248,-630.426 133.468,-620.529 130.251,-630.623 137.248,-630.426\" stroke=\"black\"/>\n",
       "</g>\n",
       "<!-- 43568267560 -->\n",
       "<g class=\"node\" id=\"node8\"><title>43568267560</title>\n",
       "<polygon fill=\"none\" points=\"64.5278,-511.5 64.5278,-547.5 215.449,-547.5 215.449,-511.5 64.5278,-511.5\" stroke=\"black\"/>\n",
       "<text font-family=\"Times,serif\" font-size=\"14.00\" text-anchor=\"middle\" x=\"139.988\" y=\"-525.3\">activation_2: Activation</text>\n",
       "</g>\n",
       "<!-- 43563729304&#45;&gt;43568267560 -->\n",
       "<g class=\"edge\" id=\"edge7\"><title>43563729304-&gt;43568267560</title>\n",
       "<path d=\"M134.683,-584.313C135.474,-576.289 136.434,-566.547 137.319,-557.569\" fill=\"none\" stroke=\"black\"/>\n",
       "<polygon fill=\"black\" points=\"140.811,-557.824 138.309,-547.529 133.845,-557.137 140.811,-557.824\" stroke=\"black\"/>\n",
       "</g>\n",
       "<!-- 43569833744 -->\n",
       "<g class=\"node\" id=\"node9\"><title>43569833744</title>\n",
       "<polygon fill=\"none\" points=\"47.1831,-438.5 47.1831,-474.5 258.793,-474.5 258.793,-438.5 47.1831,-438.5\" stroke=\"black\"/>\n",
       "<text font-family=\"Times,serif\" font-size=\"14.00\" text-anchor=\"middle\" x=\"152.988\" y=\"-452.3\">up_sampling2d_1: UpSampling2D</text>\n",
       "</g>\n",
       "<!-- 43568267560&#45;&gt;43569833744 -->\n",
       "<g class=\"edge\" id=\"edge8\"><title>43568267560-&gt;43569833744</title>\n",
       "<path d=\"M143.135,-511.313C144.604,-503.289 146.388,-493.547 148.032,-484.569\" fill=\"none\" stroke=\"black\"/>\n",
       "<polygon fill=\"black\" points=\"151.512,-484.996 149.87,-474.529 144.626,-483.735 151.512,-484.996\" stroke=\"black\"/>\n",
       "</g>\n",
       "<!-- 43569833744&#45;&gt;43569834136 -->\n",
       "<g class=\"edge\" id=\"edge10\"><title>43569833744-&gt;43569834136</title>\n",
       "<path d=\"M169.933,-438.313C178.704,-429.417 189.557,-418.409 199.157,-408.672\" fill=\"none\" stroke=\"black\"/>\n",
       "<polygon fill=\"black\" points=\"201.671,-411.107 206.199,-401.529 196.686,-406.193 201.671,-411.107\" stroke=\"black\"/>\n",
       "</g>\n",
       "<!-- 43623790576 -->\n",
       "<g class=\"node\" id=\"node11\"><title>43623790576</title>\n",
       "<polygon fill=\"none\" points=\"159.962,-292.5 159.962,-328.5 286.014,-328.5 286.014,-292.5 159.962,-292.5\" stroke=\"black\"/>\n",
       "<text font-family=\"Times,serif\" font-size=\"14.00\" text-anchor=\"middle\" x=\"222.988\" y=\"-306.3\">conv2d_3: Conv2D</text>\n",
       "</g>\n",
       "<!-- 43569834136&#45;&gt;43623790576 -->\n",
       "<g class=\"edge\" id=\"edge11\"><title>43569834136-&gt;43623790576</title>\n",
       "<path d=\"M222.988,-365.313C222.988,-357.289 222.988,-347.547 222.988,-338.569\" fill=\"none\" stroke=\"black\"/>\n",
       "<polygon fill=\"black\" points=\"226.488,-338.529 222.988,-328.529 219.488,-338.529 226.488,-338.529\" stroke=\"black\"/>\n",
       "</g>\n",
       "<!-- 43623567600 -->\n",
       "<g class=\"node\" id=\"node12\"><title>43623567600</title>\n",
       "<polygon fill=\"none\" points=\"90,-219.5 90,-255.5 355.977,-255.5 355.977,-219.5 90,-219.5\" stroke=\"black\"/>\n",
       "<text font-family=\"Times,serif\" font-size=\"14.00\" text-anchor=\"middle\" x=\"222.988\" y=\"-233.3\">batch_normalization_3: BatchNormalization</text>\n",
       "</g>\n",
       "<!-- 43623790576&#45;&gt;43623567600 -->\n",
       "<g class=\"edge\" id=\"edge12\"><title>43623790576-&gt;43623567600</title>\n",
       "<path d=\"M222.988,-292.313C222.988,-284.289 222.988,-274.547 222.988,-265.569\" fill=\"none\" stroke=\"black\"/>\n",
       "<polygon fill=\"black\" points=\"226.488,-265.529 222.988,-255.529 219.488,-265.529 226.488,-265.529\" stroke=\"black\"/>\n",
       "</g>\n",
       "<!-- 43623684416 -->\n",
       "<g class=\"node\" id=\"node13\"><title>43623684416</title>\n",
       "<polygon fill=\"none\" points=\"147.528,-146.5 147.528,-182.5 298.449,-182.5 298.449,-146.5 147.528,-146.5\" stroke=\"black\"/>\n",
       "<text font-family=\"Times,serif\" font-size=\"14.00\" text-anchor=\"middle\" x=\"222.988\" y=\"-160.3\">activation_3: Activation</text>\n",
       "</g>\n",
       "<!-- 43623567600&#45;&gt;43623684416 -->\n",
       "<g class=\"edge\" id=\"edge13\"><title>43623567600-&gt;43623684416</title>\n",
       "<path d=\"M222.988,-219.313C222.988,-211.289 222.988,-201.547 222.988,-192.569\" fill=\"none\" stroke=\"black\"/>\n",
       "<polygon fill=\"black\" points=\"226.488,-192.529 222.988,-182.529 219.488,-192.529 226.488,-192.529\" stroke=\"black\"/>\n",
       "</g>\n",
       "<!-- 43567998736 -->\n",
       "<g class=\"node\" id=\"node14\"><title>43567998736</title>\n",
       "<polygon fill=\"none\" points=\"174.735,-73.5 174.735,-109.5 271.242,-109.5 271.242,-73.5 174.735,-73.5\" stroke=\"black\"/>\n",
       "<text font-family=\"Times,serif\" font-size=\"14.00\" text-anchor=\"middle\" x=\"222.988\" y=\"-87.3\">logit: Conv2D</text>\n",
       "</g>\n",
       "<!-- 43623684416&#45;&gt;43567998736 -->\n",
       "<g class=\"edge\" id=\"edge14\"><title>43623684416-&gt;43567998736</title>\n",
       "<path d=\"M222.988,-146.313C222.988,-138.289 222.988,-128.547 222.988,-119.569\" fill=\"none\" stroke=\"black\"/>\n",
       "<polygon fill=\"black\" points=\"226.488,-119.529 222.988,-109.529 219.488,-119.529 226.488,-119.529\" stroke=\"black\"/>\n",
       "</g>\n",
       "<!-- 43568031896 -->\n",
       "<g class=\"node\" id=\"node15\"><title>43568031896</title>\n",
       "<polygon fill=\"none\" points=\"153.749,-0.5 153.749,-36.5 292.228,-36.5 292.228,-0.5 153.749,-0.5\" stroke=\"black\"/>\n",
       "<text font-family=\"Times,serif\" font-size=\"14.00\" text-anchor=\"middle\" x=\"222.988\" y=\"-14.3\">prediction: Activation</text>\n",
       "</g>\n",
       "<!-- 43567998736&#45;&gt;43568031896 -->\n",
       "<g class=\"edge\" id=\"edge15\"><title>43567998736-&gt;43568031896</title>\n",
       "<path d=\"M222.988,-73.3129C222.988,-65.2895 222.988,-55.5475 222.988,-46.5691\" fill=\"none\" stroke=\"black\"/>\n",
       "<polygon fill=\"black\" points=\"226.488,-46.5288 222.988,-36.5288 219.488,-46.5289 226.488,-46.5288\" stroke=\"black\"/>\n",
       "</g>\n",
       "</g>\n",
       "</svg>"
      ],
      "text/plain": [
       "<IPython.core.display.SVG object>"
      ]
     },
     "execution_count": 14,
     "metadata": {},
     "output_type": "execute_result"
    }
   ],
   "source": [
    "# This visualization might not work depending on how graphviz is installed, but it gives a simple overview of the structure.\n",
    "from IPython.display import SVG\n",
    "from keras.utils.vis_utils import model_to_dot\n",
    "\n",
    "SVG(model_to_dot(model).create(prog='dot', format='svg'))"
   ]
  },
  {
   "cell_type": "markdown",
   "metadata": {},
   "source": [
    "# Compile Model\n",
    "\n",
    "From: https://machinelearningmastery.com/tutorial-first-neural-network-python-keras/\n",
    "\n",
    "Now that the model is defined, we can compile it.\n",
    "\n",
    "Compiling the model uses the efficient numerical libraries under the covers (the so-called backend) such as Theano or TensorFlow. The backend automatically chooses the best way to represent the network for training and making predictions to run on your hardware, such as CPU or GPU or even distributed.\n",
    "\n",
    "When compiling, we must specify some additional properties required when training the network. Remember training a network means finding the best set of weights to make predictions for this problem.\n",
    "\n",
    "We must specify the loss function to use to evaluate a set of weights, the optimizer used to search through different weights for the network and any optional metrics we would like to collect and report during training.\n",
    "\n",
    "In this case, we will use logarithmic loss, which for a binary classification problem is defined in Keras as “binary_crossentropy“. We will also use the efficient gradient descent algorithm “adam” for no other reason that it is an efficient default. Learn more about the Adam optimization algorithm in the paper “Adam: A Method for Stochastic Optimization“.\n",
    "\n",
    "Finally, because it is a classification problem, we will collect and report the classification accuracy as the metric."
   ]
  },
  {
   "cell_type": "code",
   "execution_count": 15,
   "metadata": {
    "collapsed": true
   },
   "outputs": [],
   "source": [
    "model.compile(loss='binary_crossentropy', optimizer='adam', metrics=['accuracy'])"
   ]
  },
  {
   "cell_type": "markdown",
   "metadata": {},
   "source": [
    "# Fit Model\n",
    "\n",
    "From: https://machinelearningmastery.com/tutorial-first-neural-network-python-keras/\n",
    "\n",
    "We have defined our model and compiled it ready for efficient computation.\n",
    "\n",
    "Now it is time to execute the model on some data.\n",
    "\n",
    "We can train or fit our model on our data by calling the `fit_generator()` function on the model.\n",
    "\n",
    "The training process will run for a fixed number of iterations through the dataset called epochs, that we must specify using the `epochs` argument. We can also set the number of instances that are evaluated before a weight update in the network is performed, called the batch size and set using the `batch_size` argument.\n",
    "\n",
    "For this problem, we will run for a two epochs to begin with and a relatively small batch size of 10 to check everything works. If you don't have a GPU this still might take a couple of minutes. Optimal values can be chosen later by experiementation."
   ]
  },
  {
   "cell_type": "code",
   "execution_count": 22,
   "metadata": {
    "scrolled": true
   },
   "outputs": [
    {
     "name": "stdout",
     "output_type": "stream",
     "text": [
      "Found 1464 images belonging to 1 classes.\n",
      "Found 1464 images belonging to 1 classes.\n"
     ]
    }
   ],
   "source": [
    "train_seq = image_mask_sequence('data/train', batch_size=10, size=16)"
   ]
  },
  {
   "cell_type": "code",
   "execution_count": 23,
   "metadata": {
    "scrolled": true
   },
   "outputs": [
    {
     "name": "stdout",
     "output_type": "stream",
     "text": [
      "Epoch 1/2\n",
      "147/147 [==============================] - 21s 145ms/step - loss: 0.5826 - acc: 0.6899\n",
      "Epoch 2/2\n",
      "147/147 [==============================] - 19s 126ms/step - loss: 0.5146 - acc: 0.7417\n"
     ]
    }
   ],
   "source": [
    "h = model.fit_generator(train_seq, epochs=2)"
   ]
  },
  {
   "cell_type": "markdown",
   "metadata": {},
   "source": [
    "This is where the work happens on your CPU or GPU. If you have a GPU try to increase the number of epochs until the loss and acc stop improving."
   ]
  },
  {
   "cell_type": "code",
   "execution_count": 36,
   "metadata": {},
   "outputs": [
    {
     "data": {
      "image/png": "[encoded data removed]",
      "text/plain": [
       "<matplotlib.figure.Figure at 0xa1412c128>"
      ]
     },
     "metadata": {},
     "output_type": "display_data"
    }
   ],
   "source": [
    "# Plot the training progress.\n",
    "\n",
    "plt.title('Training Progression')\n",
    "plt.plot(h.epoch, h.history['loss'], label='loss')\n",
    "plt.plot(h.epoch, h.history['acc'], label='accuracy')\n",
    "plt.xlabel('epoch')\n",
    "plt.legend()\n",
    "plt.show()"
   ]
  },
  {
   "cell_type": "markdown",
   "metadata": {},
   "source": [
    "# Evaluate Model"
   ]
  },
  {
   "cell_type": "markdown",
   "metadata": {},
   "source": [
    "From: https://machinelearningmastery.com/tutorial-first-neural-network-python-keras/\n",
    "\n",
    "We have trained our neural network on half the dataset and we can evaluate the performance of the network on the other half.\n",
    "This will only give us an idea of how well our model performs with new data.\n",
    "\n",
    "You can evaluate your model using the `evaluate_generator()` function on your model.\n",
    "This will generate a prediction for each input and output pair and collect scores, including the average loss and any metrics you have configured, such as accuracy."
   ]
  },
  {
   "cell_type": "code",
   "execution_count": 37,
   "metadata": {
    "scrolled": true
   },
   "outputs": [
    {
     "name": "stdout",
     "output_type": "stream",
     "text": [
      "Found 1449 images belonging to 1 classes.\n",
      "Found 1449 images belonging to 1 classes.\n"
     ]
    }
   ],
   "source": [
    "val_seq = image_mask_sequence('data/val', batch_size=10, shuffle=False)"
   ]
  },
  {
   "cell_type": "code",
   "execution_count": 39,
   "metadata": {
    "scrolled": true
   },
   "outputs": [],
   "source": [
    "scores = model.evaluate_generator(train_seq)"
   ]
  },
  {
   "cell_type": "code",
   "execution_count": 40,
   "metadata": {},
   "outputs": [
    {
     "name": "stdout",
     "output_type": "stream",
     "text": [
      "acc 73.70%\n"
     ]
    }
   ],
   "source": [
    "print(f'{model.metrics_names[1]} {scores[1]*100:.2f}%')"
   ]
  },
  {
   "cell_type": "markdown",
   "metadata": {},
   "source": [
    "We can also make a prediction to visually see how the model is performing.\n",
    "In general, it can be very useful to see that your model produces and not just relying on the metrics.\n",
    "Machine learning models will often train and improve even if there are major bugs in the code."
   ]
  },
  {
   "cell_type": "code",
   "execution_count": 41,
   "metadata": {},
   "outputs": [],
   "source": [
    "predictions = model.predict_generator(val_seq, steps=1)"
   ]
  },
  {
   "cell_type": "code",
   "execution_count": 51,
   "metadata": {
    "scrolled": true
   },
   "outputs": [
    {
     "data": {
      "image/png": "[encoded data removed]",
      "text/plain": [
       "<matplotlib.figure.Figure at 0xa2ae6dd68>"
      ]
     },
     "metadata": {},
     "output_type": "display_data"
    }
   ],
   "source": [
    "images, mask = val_seq[0]\n",
    "show_image_mask_pred(images[0, ...], mask[0, ..., 0], predictions[0, ..., 0])"
   ]
  },
  {
   "cell_type": "markdown",
   "metadata": {},
   "source": [
    "## Extension Options\n",
    "\n",
    "* More epochs\n",
    "* Better network\n",
    "* Different optimizer\n",
    "* Try data augmentation (maybe the augmentation from the U-Net paper)\n",
    "* Try it on different data"
   ]
  },
  {
   "cell_type": "markdown",
   "metadata": {},
   "source": [
    "# Solutions"
   ]
  },
  {
   "cell_type": "code",
   "execution_count": null,
   "metadata": {
    "collapsed": true
   },
   "outputs": [],
   "source": [
    "def categories_to_foreground_mask(categories):\n",
    "    foreground = categories.sum(axis=-1) != 0.0\n",
    "    return foreground.reshape(foreground.shape + (1,)).astype('float32')"
   ]
  }
 ],
 "metadata": {
  "kernelspec": {
   "display_name": "Python 3",
   "language": "python",
   "name": "python3"
  },
  "language_info": {
   "codemirror_mode": {
    "name": "ipython",
    "version": 3
   },
   "file_extension": ".py",
   "mimetype": "text/x-python",
   "name": "python",
   "nbconvert_exporter": "python",
   "pygments_lexer": "ipython3",
   "version": "3.6.3"
  }
 },
 "nbformat": 4,
 "nbformat_minor": 2
}
